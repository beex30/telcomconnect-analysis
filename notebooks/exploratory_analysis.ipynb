{
 "cells": [
  {
   "metadata": {
    "ExecuteTime": {
     "end_time": "2024-12-20T16:30:34.783314Z",
     "start_time": "2024-12-20T16:30:13.461680Z"
    }
   },
   "cell_type": "code",
   "source": [
    "from scripts.data_processing import load_data\n",
    "from scripts.user_analysis import aggregate_user_behavior\n",
    "from scripts.exploratory_analysis import (\n",
    "    compute_basic_metrics,\n",
    "    segment_users_by_decile,\n",
    "    compute_correlation_matrix,\n",
    "    perform_pca,\n",
    "    plot_histograms,\n",
    "    plot_pca_result\n",
    ")\n",
    "from scripts.db import retrieve_data_as_dataframe"
   ],
   "id": "70f0b19827609c3c",
   "outputs": [],
   "execution_count": 2
  },
  {
   "metadata": {
    "ExecuteTime": {
     "end_time": "2024-12-20T16:30:42.251595Z",
     "start_time": "2024-12-20T16:30:37.041432Z"
    }
   },
   "cell_type": "code",
   "source": [
    "# Load the dataset from database\n",
    "data = retrieve_data_as_dataframe()"
   ],
   "id": "6924f1c02d6d88c1",
   "outputs": [],
   "execution_count": 3
  },
  {
   "metadata": {
    "ExecuteTime": {
     "end_time": "2024-12-20T16:30:46.062694Z",
     "start_time": "2024-12-20T16:30:44.889660Z"
    }
   },
   "cell_type": "code",
   "source": [
    "# Compute basic metrics\n",
    "basic_metrics = compute_basic_metrics(data)\n",
    "print(\"Basic Metrics:\\n\")\n",
    "basic_metrics"
   ],
   "id": "1a1b587ddf4ac3c5",
   "outputs": [
    {
     "name": "stdout",
     "output_type": "stream",
     "text": [
      "Basic Metrics:\n",
      "\n"
     ]
    },
    {
     "data": {
      "text/plain": [
       "          Bearer Id       Start ms         End ms     Dur. (ms)          IMSI  \\\n",
       "count  1.490100e+05  150000.000000  150000.000000  1.500000e+05  1.494310e+05   \n",
       "mean   1.013887e+19     499.188200     498.800880  1.046086e+05  2.082016e+14   \n",
       "std    2.893173e+18     288.611834     288.097653  8.103762e+04  2.148809e+10   \n",
       "min    6.917538e+18       0.000000       0.000000  7.142000e+03  2.040471e+14   \n",
       "25%    7.349883e+18     250.000000     251.000000  5.744050e+04  2.082014e+14   \n",
       "50%    7.349883e+18     499.000000     500.000000  8.639900e+04  2.082015e+14   \n",
       "75%    1.304243e+19     749.000000     750.000000  1.324302e+05  2.082018e+14   \n",
       "max    1.318654e+19     999.000000     999.000000  1.859336e+06  2.140743e+14   \n",
       "\n",
       "       MSISDN/Number          IMEI  Avg RTT DL (ms)  Avg RTT UL (ms)  \\\n",
       "count   1.489350e+05  1.494290e+05    122172.000000    122189.000000   \n",
       "mean    4.188282e+10  4.847455e+13       109.795706        17.662883   \n",
       "std     2.447443e+12  2.241637e+13       619.782739        84.793524   \n",
       "min     3.360100e+10  4.400152e+11         0.000000         0.000000   \n",
       "25%     3.365130e+10  3.546071e+13        32.000000         2.000000   \n",
       "50%     3.366371e+10  3.572201e+13        45.000000         5.000000   \n",
       "75%     3.368349e+10  8.611970e+13        70.000000        15.000000   \n",
       "max     8.823971e+14  9.900120e+13     96923.000000      7120.000000   \n",
       "\n",
       "       Avg Bearer TP DL (kbps)  ...  Youtube DL (Bytes)  Youtube UL (Bytes)  \\\n",
       "count            150000.000000  ...        1.500010e+05        1.500010e+05   \n",
       "mean              13300.045927  ...        1.163407e+07        1.100941e+07   \n",
       "std               23971.878541  ...        6.710569e+06        6.345423e+06   \n",
       "min                   0.000000  ...        5.300000e+01        1.050000e+02   \n",
       "25%                  43.000000  ...        5.833501e+06        5.517965e+06   \n",
       "50%                  63.000000  ...        1.161602e+07        1.101345e+07   \n",
       "75%               19710.750000  ...        1.744852e+07        1.651556e+07   \n",
       "max              378160.000000  ...        2.325910e+07        2.201196e+07   \n",
       "\n",
       "       Netflix DL (Bytes)  Netflix UL (Bytes)  Gaming DL (Bytes)  \\\n",
       "count        1.500010e+05        1.500010e+05       1.500010e+05   \n",
       "mean         1.162685e+07        1.100175e+07       4.220447e+08   \n",
       "std          6.725218e+06        6.359490e+06       2.439675e+08   \n",
       "min          4.200000e+01        3.500000e+01       2.516000e+03   \n",
       "25%          5.777156e+06        5.475981e+06       2.104733e+08   \n",
       "50%          1.164222e+07        1.099638e+07       4.234081e+08   \n",
       "75%          1.747048e+07        1.650727e+07       6.331742e+08   \n",
       "max          2.325919e+07        2.201196e+07       8.434419e+08   \n",
       "\n",
       "       Gaming UL (Bytes)  Other DL (Bytes)  Other UL (Bytes)  \\\n",
       "count       1.500010e+05      1.500010e+05      1.500010e+05   \n",
       "mean        8.288398e+06      4.211005e+08      8.264799e+06   \n",
       "std         4.782700e+06      2.432050e+08      4.769004e+06   \n",
       "min         5.900000e+01      3.290000e+03      1.480000e+02   \n",
       "25%         4.128476e+06      2.101869e+08      4.145943e+06   \n",
       "50%         8.291208e+06      4.218030e+08      8.267071e+06   \n",
       "75%         1.243162e+07      6.316918e+08      1.238415e+07   \n",
       "max         1.655879e+07      8.434425e+08      1.655882e+07   \n",
       "\n",
       "       Total UL (Bytes)  Total DL (Bytes)  \n",
       "count      1.500000e+05      1.500000e+05  \n",
       "mean       4.112121e+07      4.546434e+08  \n",
       "std        1.127639e+07      2.441429e+08  \n",
       "min        2.866892e+06      7.114041e+06  \n",
       "25%        3.322201e+07      2.431068e+08  \n",
       "50%        4.114331e+07      4.558411e+08  \n",
       "75%        4.903424e+07      6.657055e+08  \n",
       "max        7.833131e+07      9.029696e+08  \n",
       "\n",
       "[8 rows x 50 columns]"
      ],
      "text/html": [
       "<div>\n",
       "<style scoped>\n",
       "    .dataframe tbody tr th:only-of-type {\n",
       "        vertical-align: middle;\n",
       "    }\n",
       "\n",
       "    .dataframe tbody tr th {\n",
       "        vertical-align: top;\n",
       "    }\n",
       "\n",
       "    .dataframe thead th {\n",
       "        text-align: right;\n",
       "    }\n",
       "</style>\n",
       "<table border=\"1\" class=\"dataframe\">\n",
       "  <thead>\n",
       "    <tr style=\"text-align: right;\">\n",
       "      <th></th>\n",
       "      <th>Bearer Id</th>\n",
       "      <th>Start ms</th>\n",
       "      <th>End ms</th>\n",
       "      <th>Dur. (ms)</th>\n",
       "      <th>IMSI</th>\n",
       "      <th>MSISDN/Number</th>\n",
       "      <th>IMEI</th>\n",
       "      <th>Avg RTT DL (ms)</th>\n",
       "      <th>Avg RTT UL (ms)</th>\n",
       "      <th>Avg Bearer TP DL (kbps)</th>\n",
       "      <th>...</th>\n",
       "      <th>Youtube DL (Bytes)</th>\n",
       "      <th>Youtube UL (Bytes)</th>\n",
       "      <th>Netflix DL (Bytes)</th>\n",
       "      <th>Netflix UL (Bytes)</th>\n",
       "      <th>Gaming DL (Bytes)</th>\n",
       "      <th>Gaming UL (Bytes)</th>\n",
       "      <th>Other DL (Bytes)</th>\n",
       "      <th>Other UL (Bytes)</th>\n",
       "      <th>Total UL (Bytes)</th>\n",
       "      <th>Total DL (Bytes)</th>\n",
       "    </tr>\n",
       "  </thead>\n",
       "  <tbody>\n",
       "    <tr>\n",
       "      <th>count</th>\n",
       "      <td>1.490100e+05</td>\n",
       "      <td>150000.000000</td>\n",
       "      <td>150000.000000</td>\n",
       "      <td>1.500000e+05</td>\n",
       "      <td>1.494310e+05</td>\n",
       "      <td>1.489350e+05</td>\n",
       "      <td>1.494290e+05</td>\n",
       "      <td>122172.000000</td>\n",
       "      <td>122189.000000</td>\n",
       "      <td>150000.000000</td>\n",
       "      <td>...</td>\n",
       "      <td>1.500010e+05</td>\n",
       "      <td>1.500010e+05</td>\n",
       "      <td>1.500010e+05</td>\n",
       "      <td>1.500010e+05</td>\n",
       "      <td>1.500010e+05</td>\n",
       "      <td>1.500010e+05</td>\n",
       "      <td>1.500010e+05</td>\n",
       "      <td>1.500010e+05</td>\n",
       "      <td>1.500000e+05</td>\n",
       "      <td>1.500000e+05</td>\n",
       "    </tr>\n",
       "    <tr>\n",
       "      <th>mean</th>\n",
       "      <td>1.013887e+19</td>\n",
       "      <td>499.188200</td>\n",
       "      <td>498.800880</td>\n",
       "      <td>1.046086e+05</td>\n",
       "      <td>2.082016e+14</td>\n",
       "      <td>4.188282e+10</td>\n",
       "      <td>4.847455e+13</td>\n",
       "      <td>109.795706</td>\n",
       "      <td>17.662883</td>\n",
       "      <td>13300.045927</td>\n",
       "      <td>...</td>\n",
       "      <td>1.163407e+07</td>\n",
       "      <td>1.100941e+07</td>\n",
       "      <td>1.162685e+07</td>\n",
       "      <td>1.100175e+07</td>\n",
       "      <td>4.220447e+08</td>\n",
       "      <td>8.288398e+06</td>\n",
       "      <td>4.211005e+08</td>\n",
       "      <td>8.264799e+06</td>\n",
       "      <td>4.112121e+07</td>\n",
       "      <td>4.546434e+08</td>\n",
       "    </tr>\n",
       "    <tr>\n",
       "      <th>std</th>\n",
       "      <td>2.893173e+18</td>\n",
       "      <td>288.611834</td>\n",
       "      <td>288.097653</td>\n",
       "      <td>8.103762e+04</td>\n",
       "      <td>2.148809e+10</td>\n",
       "      <td>2.447443e+12</td>\n",
       "      <td>2.241637e+13</td>\n",
       "      <td>619.782739</td>\n",
       "      <td>84.793524</td>\n",
       "      <td>23971.878541</td>\n",
       "      <td>...</td>\n",
       "      <td>6.710569e+06</td>\n",
       "      <td>6.345423e+06</td>\n",
       "      <td>6.725218e+06</td>\n",
       "      <td>6.359490e+06</td>\n",
       "      <td>2.439675e+08</td>\n",
       "      <td>4.782700e+06</td>\n",
       "      <td>2.432050e+08</td>\n",
       "      <td>4.769004e+06</td>\n",
       "      <td>1.127639e+07</td>\n",
       "      <td>2.441429e+08</td>\n",
       "    </tr>\n",
       "    <tr>\n",
       "      <th>min</th>\n",
       "      <td>6.917538e+18</td>\n",
       "      <td>0.000000</td>\n",
       "      <td>0.000000</td>\n",
       "      <td>7.142000e+03</td>\n",
       "      <td>2.040471e+14</td>\n",
       "      <td>3.360100e+10</td>\n",
       "      <td>4.400152e+11</td>\n",
       "      <td>0.000000</td>\n",
       "      <td>0.000000</td>\n",
       "      <td>0.000000</td>\n",
       "      <td>...</td>\n",
       "      <td>5.300000e+01</td>\n",
       "      <td>1.050000e+02</td>\n",
       "      <td>4.200000e+01</td>\n",
       "      <td>3.500000e+01</td>\n",
       "      <td>2.516000e+03</td>\n",
       "      <td>5.900000e+01</td>\n",
       "      <td>3.290000e+03</td>\n",
       "      <td>1.480000e+02</td>\n",
       "      <td>2.866892e+06</td>\n",
       "      <td>7.114041e+06</td>\n",
       "    </tr>\n",
       "    <tr>\n",
       "      <th>25%</th>\n",
       "      <td>7.349883e+18</td>\n",
       "      <td>250.000000</td>\n",
       "      <td>251.000000</td>\n",
       "      <td>5.744050e+04</td>\n",
       "      <td>2.082014e+14</td>\n",
       "      <td>3.365130e+10</td>\n",
       "      <td>3.546071e+13</td>\n",
       "      <td>32.000000</td>\n",
       "      <td>2.000000</td>\n",
       "      <td>43.000000</td>\n",
       "      <td>...</td>\n",
       "      <td>5.833501e+06</td>\n",
       "      <td>5.517965e+06</td>\n",
       "      <td>5.777156e+06</td>\n",
       "      <td>5.475981e+06</td>\n",
       "      <td>2.104733e+08</td>\n",
       "      <td>4.128476e+06</td>\n",
       "      <td>2.101869e+08</td>\n",
       "      <td>4.145943e+06</td>\n",
       "      <td>3.322201e+07</td>\n",
       "      <td>2.431068e+08</td>\n",
       "    </tr>\n",
       "    <tr>\n",
       "      <th>50%</th>\n",
       "      <td>7.349883e+18</td>\n",
       "      <td>499.000000</td>\n",
       "      <td>500.000000</td>\n",
       "      <td>8.639900e+04</td>\n",
       "      <td>2.082015e+14</td>\n",
       "      <td>3.366371e+10</td>\n",
       "      <td>3.572201e+13</td>\n",
       "      <td>45.000000</td>\n",
       "      <td>5.000000</td>\n",
       "      <td>63.000000</td>\n",
       "      <td>...</td>\n",
       "      <td>1.161602e+07</td>\n",
       "      <td>1.101345e+07</td>\n",
       "      <td>1.164222e+07</td>\n",
       "      <td>1.099638e+07</td>\n",
       "      <td>4.234081e+08</td>\n",
       "      <td>8.291208e+06</td>\n",
       "      <td>4.218030e+08</td>\n",
       "      <td>8.267071e+06</td>\n",
       "      <td>4.114331e+07</td>\n",
       "      <td>4.558411e+08</td>\n",
       "    </tr>\n",
       "    <tr>\n",
       "      <th>75%</th>\n",
       "      <td>1.304243e+19</td>\n",
       "      <td>749.000000</td>\n",
       "      <td>750.000000</td>\n",
       "      <td>1.324302e+05</td>\n",
       "      <td>2.082018e+14</td>\n",
       "      <td>3.368349e+10</td>\n",
       "      <td>8.611970e+13</td>\n",
       "      <td>70.000000</td>\n",
       "      <td>15.000000</td>\n",
       "      <td>19710.750000</td>\n",
       "      <td>...</td>\n",
       "      <td>1.744852e+07</td>\n",
       "      <td>1.651556e+07</td>\n",
       "      <td>1.747048e+07</td>\n",
       "      <td>1.650727e+07</td>\n",
       "      <td>6.331742e+08</td>\n",
       "      <td>1.243162e+07</td>\n",
       "      <td>6.316918e+08</td>\n",
       "      <td>1.238415e+07</td>\n",
       "      <td>4.903424e+07</td>\n",
       "      <td>6.657055e+08</td>\n",
       "    </tr>\n",
       "    <tr>\n",
       "      <th>max</th>\n",
       "      <td>1.318654e+19</td>\n",
       "      <td>999.000000</td>\n",
       "      <td>999.000000</td>\n",
       "      <td>1.859336e+06</td>\n",
       "      <td>2.140743e+14</td>\n",
       "      <td>8.823971e+14</td>\n",
       "      <td>9.900120e+13</td>\n",
       "      <td>96923.000000</td>\n",
       "      <td>7120.000000</td>\n",
       "      <td>378160.000000</td>\n",
       "      <td>...</td>\n",
       "      <td>2.325910e+07</td>\n",
       "      <td>2.201196e+07</td>\n",
       "      <td>2.325919e+07</td>\n",
       "      <td>2.201196e+07</td>\n",
       "      <td>8.434419e+08</td>\n",
       "      <td>1.655879e+07</td>\n",
       "      <td>8.434425e+08</td>\n",
       "      <td>1.655882e+07</td>\n",
       "      <td>7.833131e+07</td>\n",
       "      <td>9.029696e+08</td>\n",
       "    </tr>\n",
       "  </tbody>\n",
       "</table>\n",
       "<p>8 rows × 50 columns</p>\n",
       "</div>"
      ]
     },
     "execution_count": 4,
     "metadata": {},
     "output_type": "execute_result"
    }
   ],
   "execution_count": 4
  },
  {
   "metadata": {
    "ExecuteTime": {
     "end_time": "2024-12-20T16:30:49.899801Z",
     "start_time": "2024-12-20T16:30:49.648029Z"
    }
   },
   "cell_type": "code",
   "source": [
    "# information about the dataset\n",
    "data.info()"
   ],
   "id": "552a127226394ce4",
   "outputs": [
    {
     "name": "stdout",
     "output_type": "stream",
     "text": [
      "<class 'pandas.core.frame.DataFrame'>\n",
      "RangeIndex: 150001 entries, 0 to 150000\n",
      "Data columns (total 55 columns):\n",
      " #   Column                                    Non-Null Count   Dtype  \n",
      "---  ------                                    --------------   -----  \n",
      " 0   Bearer Id                                 149010 non-null  float64\n",
      " 1   Start                                     150000 non-null  object \n",
      " 2   Start ms                                  150000 non-null  float64\n",
      " 3   End                                       150000 non-null  object \n",
      " 4   End ms                                    150000 non-null  float64\n",
      " 5   Dur. (ms)                                 150000 non-null  float64\n",
      " 6   IMSI                                      149431 non-null  float64\n",
      " 7   MSISDN/Number                             148935 non-null  float64\n",
      " 8   IMEI                                      149429 non-null  float64\n",
      " 9   Last Location Name                        148848 non-null  object \n",
      " 10  Avg RTT DL (ms)                           122172 non-null  float64\n",
      " 11  Avg RTT UL (ms)                           122189 non-null  float64\n",
      " 12  Avg Bearer TP DL (kbps)                   150000 non-null  float64\n",
      " 13  Avg Bearer TP UL (kbps)                   150000 non-null  float64\n",
      " 14  TCP DL Retrans. Vol (Bytes)               61855 non-null   float64\n",
      " 15  TCP UL Retrans. Vol (Bytes)               53352 non-null   float64\n",
      " 16  DL TP < 50 Kbps (%)                       149247 non-null  float64\n",
      " 17  50 Kbps < DL TP < 250 Kbps (%)            149247 non-null  float64\n",
      " 18  250 Kbps < DL TP < 1 Mbps (%)             149247 non-null  float64\n",
      " 19  DL TP > 1 Mbps (%)                        149247 non-null  float64\n",
      " 20  UL TP < 10 Kbps (%)                       149209 non-null  float64\n",
      " 21  10 Kbps < UL TP < 50 Kbps (%)             149209 non-null  float64\n",
      " 22  50 Kbps < UL TP < 300 Kbps (%)            149209 non-null  float64\n",
      " 23  UL TP > 300 Kbps (%)                      149209 non-null  float64\n",
      " 24  HTTP DL (Bytes)                           68527 non-null   float64\n",
      " 25  HTTP UL (Bytes)                           68191 non-null   float64\n",
      " 26  Activity Duration DL (ms)                 150000 non-null  float64\n",
      " 27  Activity Duration UL (ms)                 150000 non-null  float64\n",
      " 28  Dur. (ms).1                               150000 non-null  float64\n",
      " 29  Handset Manufacturer                      149429 non-null  object \n",
      " 30  Handset Type                              149429 non-null  object \n",
      " 31  Nb of sec with 125000B < Vol DL           52463 non-null   float64\n",
      " 32  Nb of sec with 1250B < Vol UL < 6250B     57107 non-null   float64\n",
      " 33  Nb of sec with 31250B < Vol DL < 125000B  56415 non-null   float64\n",
      " 34  Nb of sec with 37500B < Vol UL            19747 non-null   float64\n",
      " 35  Nb of sec with 6250B < Vol DL < 31250B    61684 non-null   float64\n",
      " 36  Nb of sec with 6250B < Vol UL < 37500B    38158 non-null   float64\n",
      " 37  Nb of sec with Vol DL < 6250B             149246 non-null  float64\n",
      " 38  Nb of sec with Vol UL < 1250B             149208 non-null  float64\n",
      " 39  Social Media DL (Bytes)                   150001 non-null  float64\n",
      " 40  Social Media UL (Bytes)                   150001 non-null  float64\n",
      " 41  Google DL (Bytes)                         150001 non-null  float64\n",
      " 42  Google UL (Bytes)                         150001 non-null  float64\n",
      " 43  Email DL (Bytes)                          150001 non-null  float64\n",
      " 44  Email UL (Bytes)                          150001 non-null  float64\n",
      " 45  Youtube DL (Bytes)                        150001 non-null  float64\n",
      " 46  Youtube UL (Bytes)                        150001 non-null  float64\n",
      " 47  Netflix DL (Bytes)                        150001 non-null  float64\n",
      " 48  Netflix UL (Bytes)                        150001 non-null  float64\n",
      " 49  Gaming DL (Bytes)                         150001 non-null  float64\n",
      " 50  Gaming UL (Bytes)                         150001 non-null  float64\n",
      " 51  Other DL (Bytes)                          150001 non-null  float64\n",
      " 52  Other UL (Bytes)                          150001 non-null  float64\n",
      " 53  Total UL (Bytes)                          150000 non-null  float64\n",
      " 54  Total DL (Bytes)                          150000 non-null  float64\n",
      "dtypes: float64(50), object(5)\n",
      "memory usage: 62.9+ MB\n"
     ]
    }
   ],
   "execution_count": 5
  },
  {
   "metadata": {
    "ExecuteTime": {
     "end_time": "2024-12-20T16:30:54.838732Z",
     "start_time": "2024-12-20T16:30:54.498271Z"
    }
   },
   "cell_type": "code",
   "source": [
    "# Aggregate user behavior\n",
    "user_behavior = aggregate_user_behavior(data)"
   ],
   "id": "5d358ed42df1ea47",
   "outputs": [],
   "execution_count": 6
  },
  {
   "metadata": {
    "ExecuteTime": {
     "end_time": "2024-12-20T16:31:00.705799Z",
     "start_time": "2024-12-20T16:31:00.489640Z"
    }
   },
   "cell_type": "code",
   "source": [
    "# Compute basic metrics\n",
    "basic_metrics = compute_basic_metrics(user_behavior)\n",
    "print(\"Basic Metrics:\\n\")\n",
    "basic_metrics"
   ],
   "id": "6da20e6672f15fc6",
   "outputs": [
    {
     "name": "stdout",
     "output_type": "stream",
     "text": [
      "Basic Metrics:\n",
      "\n"
     ]
    },
    {
     "data": {
      "text/plain": [
       "               IMSI   xDR_sessions  total_duration  total_download  \\\n",
       "count  1.072650e+05  107265.000000    1.072650e+05    1.072650e+05   \n",
       "mean   2.082016e+14       1.389092    1.459355e+05    6.333706e+08   \n",
       "std    2.534986e+10       0.809545    1.863518e+05    4.643722e+08   \n",
       "min    2.040471e+14       0.000000    7.142000e+03    8.827082e+06   \n",
       "25%    2.082010e+14       1.000000    7.041100e+04    3.148031e+08   \n",
       "50%    2.082015e+14       1.000000    1.024500e+05    5.700628e+08   \n",
       "75%    2.082018e+14       2.000000    1.727990e+05    8.070673e+08   \n",
       "max    2.140743e+14      18.000000    1.855375e+07    8.156743e+09   \n",
       "\n",
       "       total_upload  total_data_volume  \n",
       "count  1.072650e+05       1.072650e+05  \n",
       "mean   5.728499e+07       6.906556e+08  \n",
       "std    3.564266e+07       4.908637e+08  \n",
       "min    2.866892e+06       3.324901e+07  \n",
       "25%    3.639251e+07       3.584885e+08  \n",
       "50%    4.678050e+07       6.176283e+08  \n",
       "75%    6.565842e+07       8.571685e+08  \n",
       "max    7.295774e+08       8.846226e+09  "
      ],
      "text/html": [
       "<div>\n",
       "<style scoped>\n",
       "    .dataframe tbody tr th:only-of-type {\n",
       "        vertical-align: middle;\n",
       "    }\n",
       "\n",
       "    .dataframe tbody tr th {\n",
       "        vertical-align: top;\n",
       "    }\n",
       "\n",
       "    .dataframe thead th {\n",
       "        text-align: right;\n",
       "    }\n",
       "</style>\n",
       "<table border=\"1\" class=\"dataframe\">\n",
       "  <thead>\n",
       "    <tr style=\"text-align: right;\">\n",
       "      <th></th>\n",
       "      <th>IMSI</th>\n",
       "      <th>xDR_sessions</th>\n",
       "      <th>total_duration</th>\n",
       "      <th>total_download</th>\n",
       "      <th>total_upload</th>\n",
       "      <th>total_data_volume</th>\n",
       "    </tr>\n",
       "  </thead>\n",
       "  <tbody>\n",
       "    <tr>\n",
       "      <th>count</th>\n",
       "      <td>1.072650e+05</td>\n",
       "      <td>107265.000000</td>\n",
       "      <td>1.072650e+05</td>\n",
       "      <td>1.072650e+05</td>\n",
       "      <td>1.072650e+05</td>\n",
       "      <td>1.072650e+05</td>\n",
       "    </tr>\n",
       "    <tr>\n",
       "      <th>mean</th>\n",
       "      <td>2.082016e+14</td>\n",
       "      <td>1.389092</td>\n",
       "      <td>1.459355e+05</td>\n",
       "      <td>6.333706e+08</td>\n",
       "      <td>5.728499e+07</td>\n",
       "      <td>6.906556e+08</td>\n",
       "    </tr>\n",
       "    <tr>\n",
       "      <th>std</th>\n",
       "      <td>2.534986e+10</td>\n",
       "      <td>0.809545</td>\n",
       "      <td>1.863518e+05</td>\n",
       "      <td>4.643722e+08</td>\n",
       "      <td>3.564266e+07</td>\n",
       "      <td>4.908637e+08</td>\n",
       "    </tr>\n",
       "    <tr>\n",
       "      <th>min</th>\n",
       "      <td>2.040471e+14</td>\n",
       "      <td>0.000000</td>\n",
       "      <td>7.142000e+03</td>\n",
       "      <td>8.827082e+06</td>\n",
       "      <td>2.866892e+06</td>\n",
       "      <td>3.324901e+07</td>\n",
       "    </tr>\n",
       "    <tr>\n",
       "      <th>25%</th>\n",
       "      <td>2.082010e+14</td>\n",
       "      <td>1.000000</td>\n",
       "      <td>7.041100e+04</td>\n",
       "      <td>3.148031e+08</td>\n",
       "      <td>3.639251e+07</td>\n",
       "      <td>3.584885e+08</td>\n",
       "    </tr>\n",
       "    <tr>\n",
       "      <th>50%</th>\n",
       "      <td>2.082015e+14</td>\n",
       "      <td>1.000000</td>\n",
       "      <td>1.024500e+05</td>\n",
       "      <td>5.700628e+08</td>\n",
       "      <td>4.678050e+07</td>\n",
       "      <td>6.176283e+08</td>\n",
       "    </tr>\n",
       "    <tr>\n",
       "      <th>75%</th>\n",
       "      <td>2.082018e+14</td>\n",
       "      <td>2.000000</td>\n",
       "      <td>1.727990e+05</td>\n",
       "      <td>8.070673e+08</td>\n",
       "      <td>6.565842e+07</td>\n",
       "      <td>8.571685e+08</td>\n",
       "    </tr>\n",
       "    <tr>\n",
       "      <th>max</th>\n",
       "      <td>2.140743e+14</td>\n",
       "      <td>18.000000</td>\n",
       "      <td>1.855375e+07</td>\n",
       "      <td>8.156743e+09</td>\n",
       "      <td>7.295774e+08</td>\n",
       "      <td>8.846226e+09</td>\n",
       "    </tr>\n",
       "  </tbody>\n",
       "</table>\n",
       "</div>"
      ]
     },
     "execution_count": 7,
     "metadata": {},
     "output_type": "execute_result"
    }
   ],
   "execution_count": 7
  },
  {
   "metadata": {
    "ExecuteTime": {
     "end_time": "2024-12-20T16:31:05.182157Z",
     "start_time": "2024-12-20T16:31:04.925582Z"
    }
   },
   "cell_type": "code",
   "source": [
    "# Segment users into deciles\n",
    "decile_data = segment_users_by_decile(user_behavior)\n",
    "print(\"Decile Data:\\n\", decile_data)"
   ],
   "id": "1dec401c8b2a856f",
   "outputs": [
    {
     "name": "stdout",
     "output_type": "stream",
     "text": [
      "Decile Data:\n",
      "    decile  total_data_volume   avg_duration\n",
      "0       0       5.457884e+12   20006.301575\n",
      "1       1       6.105181e+12   39927.679098\n",
      "2       2       6.554138e+12   70535.882446\n",
      "3       3       6.177730e+12   86356.305066\n",
      "4       4       5.070381e+12   94138.311270\n",
      "5       5       6.452409e+12  117085.199981\n",
      "6       6       6.176211e+12  147505.875734\n",
      "7       7       7.843097e+12  174771.685158\n",
      "8       8       9.330793e+12  232421.932221\n",
      "9       9       1.491535e+13  477782.887480\n"
     ]
    }
   ],
   "execution_count": 8
  },
  {
   "metadata": {
    "ExecuteTime": {
     "end_time": "2024-12-20T16:31:12.730535Z",
     "start_time": "2024-12-20T16:31:10.497684Z"
    }
   },
   "cell_type": "code",
   "source": [
    "# Correlation analysis\n",
    "columns_to_analyze = [\n",
    "    'total_download', 'total_upload', 'total_data_volume',\n",
    "    'total_duration', 'xDR_sessions'\n",
    "]\n",
    "compute_correlation_matrix(user_behavior, columns_to_analyze)"
   ],
   "id": "8b83aa891e565388",
   "outputs": [
    {
     "data": {
      "text/plain": [
       "<Figure size 640x480 with 2 Axes>"
      ],
      "image/png": "[encoded data removed]"
     },
     "metadata": {},
     "output_type": "display_data"
    },
    {
     "data": {
      "text/plain": [
       "                   total_download  total_upload  total_data_volume  \\\n",
       "total_download           1.000000      0.726077           0.998753   \n",
       "total_upload             0.726077      1.000000           0.759503   \n",
       "total_data_volume        0.998753      0.759503           1.000000   \n",
       "total_duration           0.500967      0.590150           0.516782   \n",
       "xDR_sessions             0.781335      0.924575           0.806302   \n",
       "\n",
       "                   total_duration  xDR_sessions  \n",
       "total_download           0.500967      0.781335  \n",
       "total_upload             0.590150      0.924575  \n",
       "total_data_volume        0.516782      0.806302  \n",
       "total_duration           1.000000      0.636451  \n",
       "xDR_sessions             0.636451      1.000000  "
      ],
      "text/html": [
       "<div>\n",
       "<style scoped>\n",
       "    .dataframe tbody tr th:only-of-type {\n",
       "        vertical-align: middle;\n",
       "    }\n",
       "\n",
       "    .dataframe tbody tr th {\n",
       "        vertical-align: top;\n",
       "    }\n",
       "\n",
       "    .dataframe thead th {\n",
       "        text-align: right;\n",
       "    }\n",
       "</style>\n",
       "<table border=\"1\" class=\"dataframe\">\n",
       "  <thead>\n",
       "    <tr style=\"text-align: right;\">\n",
       "      <th></th>\n",
       "      <th>total_download</th>\n",
       "      <th>total_upload</th>\n",
       "      <th>total_data_volume</th>\n",
       "      <th>total_duration</th>\n",
       "      <th>xDR_sessions</th>\n",
       "    </tr>\n",
       "  </thead>\n",
       "  <tbody>\n",
       "    <tr>\n",
       "      <th>total_download</th>\n",
       "      <td>1.000000</td>\n",
       "      <td>0.726077</td>\n",
       "      <td>0.998753</td>\n",
       "      <td>0.500967</td>\n",
       "      <td>0.781335</td>\n",
       "    </tr>\n",
       "    <tr>\n",
       "      <th>total_upload</th>\n",
       "      <td>0.726077</td>\n",
       "      <td>1.000000</td>\n",
       "      <td>0.759503</td>\n",
       "      <td>0.590150</td>\n",
       "      <td>0.924575</td>\n",
       "    </tr>\n",
       "    <tr>\n",
       "      <th>total_data_volume</th>\n",
       "      <td>0.998753</td>\n",
       "      <td>0.759503</td>\n",
       "      <td>1.000000</td>\n",
       "      <td>0.516782</td>\n",
       "      <td>0.806302</td>\n",
       "    </tr>\n",
       "    <tr>\n",
       "      <th>total_duration</th>\n",
       "      <td>0.500967</td>\n",
       "      <td>0.590150</td>\n",
       "      <td>0.516782</td>\n",
       "      <td>1.000000</td>\n",
       "      <td>0.636451</td>\n",
       "    </tr>\n",
       "    <tr>\n",
       "      <th>xDR_sessions</th>\n",
       "      <td>0.781335</td>\n",
       "      <td>0.924575</td>\n",
       "      <td>0.806302</td>\n",
       "      <td>0.636451</td>\n",
       "      <td>1.000000</td>\n",
       "    </tr>\n",
       "  </tbody>\n",
       "</table>\n",
       "</div>"
      ]
     },
     "execution_count": 9,
     "metadata": {},
     "output_type": "execute_result"
    }
   ],
   "execution_count": 9
  },
  {
   "metadata": {
    "ExecuteTime": {
     "end_time": "2024-12-20T16:31:23.722358Z",
     "start_time": "2024-12-20T16:31:23.652209Z"
    }
   },
   "cell_type": "code",
   "source": [
    "# Perform PCA\n",
    "columns_for_pca = ['total_download', 'total_upload', 'total_data_volume']\n",
    "principal_components, explained_variance = perform_pca(user_behavior, columns_for_pca)"
   ],
   "id": "7f873eedfa1714f9",
   "outputs": [],
   "execution_count": 10
  },
  {
   "metadata": {
    "ExecuteTime": {
     "end_time": "2024-12-20T16:31:27.098204Z",
     "start_time": "2024-12-20T16:31:27.048365Z"
    }
   },
   "cell_type": "code",
   "source": "print(\"Explained Variance Ratio:\\n\", explained_variance)",
   "id": "8d5746e9f1c5da10",
   "outputs": [
    {
     "name": "stdout",
     "output_type": "stream",
     "text": [
      "Explained Variance Ratio:\n",
      " [0.99814294 0.00185706]\n"
     ]
    }
   ],
   "execution_count": 11
  },
  {
   "metadata": {
    "ExecuteTime": {
     "end_time": "2024-12-20T16:31:33.760617Z",
     "start_time": "2024-12-20T16:31:32.862628Z"
    }
   },
   "cell_type": "code",
   "source": [
    "# Graphical Uni variate Analysis\n",
    "plot_histograms(user_behavior)"
   ],
   "id": "7a2ac0c231b7eb1e",
   "outputs": [
    {
     "data": {
      "text/plain": [
       "<Figure size 640x480 with 1 Axes>"
      ],
      "image/png": "[encoded data removed]"
     },
     "metadata": {},
     "output_type": "display_data"
    }
   ],
   "execution_count": 12
  },
  {
   "metadata": {
    "ExecuteTime": {
     "end_time": "2024-12-20T16:31:58.810570Z",
     "start_time": "2024-12-20T16:31:57.959574Z"
    }
   },
   "cell_type": "code",
   "source": [
    "# Graphical bi variate Analysis\n",
    "plot_pca_result(principal_components)"
   ],
   "id": "6937b98b7ad1686b",
   "outputs": [
    {
     "data": {
      "text/plain": [
       "<Figure size 640x480 with 1 Axes>"
      ],
      "image/png": "[encoded data removed]"
     },
     "metadata": {},
     "output_type": "display_data"
    }
   ],
   "execution_count": 13
  }
 ],
 "metadata": {
  "kernelspec": {
   "display_name": "Python 3",
   "language": "python",
   "name": "python3"
  },
  "language_info": {
   "codemirror_mode": {
    "name": "ipython",
    "version": 2
   },
   "file_extension": ".py",
   "mimetype": "text/x-python",
   "name": "python",
   "nbconvert_exporter": "python",
   "pygments_lexer": "ipython2",
   "version": "2.7.6"
  }
 },
 "nbformat": 4,
 "nbformat_minor": 5
}
